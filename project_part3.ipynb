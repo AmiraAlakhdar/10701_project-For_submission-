{
 "cells": [
  {
   "cell_type": "markdown",
   "id": "f509cbe3",
   "metadata": {},
   "source": [
    "## Reading Libraries and dataset"
   ]
  },
  {
   "cell_type": "code",
   "execution_count": 1,
   "id": "0308678d",
   "metadata": {},
   "outputs": [],
   "source": [
    "import pandas as pd\n",
    "import numpy as np\n",
    "import matplotlib.pyplot as plt\n",
    "from sklearn.metrics import accuracy_score\n",
    "from sklearn.multiclass import OneVsRestClassifier\n",
    "from sklearn.preprocessing import StandardScaler\n",
    "from sklearn.decomposition import PCA\n",
    "from sklearn.model_selection import GridSearchCV"
   ]
  },
  {
   "cell_type": "code",
   "execution_count": 2,
   "id": "46b8d7e7",
   "metadata": {},
   "outputs": [],
   "source": [
    "train = pd.HDFStore('train_data.h5')\n",
    "y_train = train['labels']\n",
    "X_train = train['rpkm']\n",
    "idx1 = y_train.index\n",
    "X_train= X_train.loc[idx1, :]"
   ]
  },
  {
   "cell_type": "code",
   "execution_count": 3,
   "id": "91a82789",
   "metadata": {},
   "outputs": [],
   "source": [
    "test = pd.HDFStore('test_data.h5')\n",
    "y_test = test['labels']\n",
    "X_test = test['rpkm']"
   ]
  },
  {
   "cell_type": "markdown",
   "id": "174be8b2",
   "metadata": {},
   "source": [
    "## PART 3: Feature selection before PCA"
   ]
  },
  {
   "cell_type": "markdown",
   "id": "85d790e5",
   "metadata": {},
   "source": [
    "### Biological variance"
   ]
  },
  {
   "cell_type": "code",
   "execution_count": 37,
   "id": "f337031d",
   "metadata": {},
   "outputs": [],
   "source": [
    "genes = X_train.columns\n",
    "genes_df = pd.DataFrame(index=genes)\n",
    "genes_df['mean'] = X_train.mean()\n",
    "genes_df['std'] = X_train.std()\n",
    "genes_df['variance'] = genes_df['std']**2\n",
    "##biological variance = Total variance - the observed mean expression\n",
    "genes_df['bio_var'] = genes_df['variance'] - genes_df['mean']"
   ]
  },
  {
   "cell_type": "code",
   "execution_count": 38,
   "id": "255e7a54",
   "metadata": {},
   "outputs": [],
   "source": [
    "genes_df = genes_df.sort_values(by=['bio_var'], ascending=False)"
   ]
  },
  {
   "cell_type": "code",
   "execution_count": 39,
   "id": "39ef6392",
   "metadata": {},
   "outputs": [
    {
     "name": "stdout",
     "output_type": "stream",
     "text": [
      "2000\n",
      "3000\n",
      "5000\n",
      "7000\n",
      "10000\n"
     ]
    }
   ],
   "source": [
    "from sklearn.svm import SVC\n",
    "no_genes = [2000, 3000, 5000, 7000, 10000]\n",
    "accuracies_pca_test = []\n",
    "accuracies_pca_train = []\n",
    "for i in no_genes:\n",
    "    print(i)\n",
    "    genes = genes_df.iloc[:i, :].index\n",
    "    X_train_new = X_train.loc[:, genes]\n",
    "    X_test_new = X_test.loc[:, genes]\n",
    "    pca = PCA(n_components=200)\n",
    "    X_train_pca = pca.fit_transform(X_train_new)\n",
    "    X_test_pca = pca.transform(X_test_new)\n",
    "    model = SVC()\n",
    "    model.fit(X_train_pca[:, :120], y_train)\n",
    "    y_pred = model.predict(X_test_pca[:, :120])\n",
    "    y_pred_train = model.predict(X_train_pca[:, :120])\n",
    "    accuracy = accuracy_score(y_test, y_pred)\n",
    "    train_accuracy = accuracy_score(y_train, y_pred_train)\n",
    "    accuracies_pca_test.append(accuracy)\n",
    "    accuracies_pca_train.append(train_accuracy)"
   ]
  },
  {
   "cell_type": "code",
   "execution_count": 40,
   "id": "807c506b",
   "metadata": {},
   "outputs": [
    {
     "data": {
      "image/png": "[encoded data removed]",
      "text/plain": [
       "<Figure size 720x432 with 1 Axes>"
      ]
     },
     "metadata": {
      "needs_background": "light"
     },
     "output_type": "display_data"
    }
   ],
   "source": [
    "plt.figure(figsize=(10,6))\n",
    "plt.plot(no_genes, accuracies_pca_test, label='test', marker = '^')\n",
    "plt.plot(no_genes, accuracies_pca_train, label='train',  marker = '^')\n",
    "plt.ylabel('Accuracy')\n",
    "plt.xlabel('No. of genes')\n",
    "plt.title('Accuracy per no. of genes (SVM with 120 PCs filtered based on biological variance)')\n",
    "plt.xlim([0, 10000])\n",
    "plt.ylim([0, 1])\n",
    "plt.xticks(np.arange(0, 12000, 1000))\n",
    "plt.yticks(np.arange(0,1, 0.1))\n",
    "plt.legend()\n",
    "plt.savefig('pca_svm_biovar.png', dpi=300)"
   ]
  },
  {
   "cell_type": "code",
   "execution_count": 41,
   "id": "a048a232",
   "metadata": {},
   "outputs": [
    {
     "data": {
      "text/plain": [
       "[0.5285464098073556,\n",
       " 0.5299474605954466,\n",
       " 0.5313485113835377,\n",
       " 0.5309982486865149,\n",
       " 0.5313485113835377]"
      ]
     },
     "execution_count": 41,
     "metadata": {},
     "output_type": "execute_result"
    }
   ],
   "source": [
    "accuracies_pca_test"
   ]
  },
  {
   "cell_type": "code",
   "execution_count": 47,
   "id": "75e1df25",
   "metadata": {},
   "outputs": [
    {
     "data": {
      "text/plain": [
       "[0.8045724437795129,\n",
       " 0.8058815278881668,\n",
       " 0.8070503529851792,\n",
       " 0.8076581420356258,\n",
       " 0.8077048950395063]"
      ]
     },
     "execution_count": 47,
     "metadata": {},
     "output_type": "execute_result"
    }
   ],
   "source": [
    "accuracies_pca_train"
   ]
  },
  {
   "cell_type": "markdown",
   "id": "628328e4",
   "metadata": {},
   "source": [
    "### Trying different PCs using 5000 genes"
   ]
  },
  {
   "cell_type": "code",
   "execution_count": 42,
   "id": "b0b67981",
   "metadata": {},
   "outputs": [],
   "source": [
    "genes = genes_df.iloc[:5000, :].index\n",
    "X_train_5000 = X_train.loc[:, genes]\n",
    "X_test_5000 = X_test.loc[:, genes]\n",
    "pca = PCA(n_components=200)\n",
    "X_train_pca_5000 = pca.fit_transform(X_train_5000)\n",
    "X_test_pca_5000 = pca.transform(X_test_5000)"
   ]
  },
  {
   "cell_type": "code",
   "execution_count": 43,
   "id": "b94f3f76",
   "metadata": {},
   "outputs": [],
   "source": [
    "from sklearn.svm import SVC\n",
    "no_pcs = [20, 40, 60, 80, 100, 120, 140, 160, 180, 200]\n",
    "accuracies_pca_test_5000 = []\n",
    "accuracies_pca_train_5000 = []\n",
    "\n",
    "for i in no_pcs:\n",
    "    clf =  SVC()\n",
    "    clf.fit(X_train_pca_5000[:, :i], y_train)\n",
    "    y_pred = clf.predict(X_test_pca_5000[:, :i])\n",
    "    y_pred_train = clf.predict(X_train_pca_5000[:, :i])\n",
    "    accuracy = accuracy_score(y_test, y_pred)\n",
    "    train_accuracy = accuracy_score(y_train, y_pred_train)\n",
    "    accuracies_pca_test_5000.append(accuracy)\n",
    "    accuracies_pca_train_5000.append(train_accuracy)"
   ]
  },
  {
   "cell_type": "code",
   "execution_count": 44,
   "id": "2e5bf254",
   "metadata": {
    "scrolled": false
   },
   "outputs": [
    {
     "data": {
      "image/png": "[encoded data removed]",
      "text/plain": [
       "<Figure size 720x432 with 1 Axes>"
      ]
     },
     "metadata": {
      "needs_background": "light"
     },
     "output_type": "display_data"
    }
   ],
   "source": [
    "plt.figure(figsize=(10,6))\n",
    "plt.plot(no_pcs, accuracies_pca_test_5000, label='test', marker = '^')\n",
    "plt.plot(no_pcs, accuracies_pca_train_5000, label='train', marker = '^')\n",
    "plt.ylabel('Accuracy')\n",
    "plt.xlabel('No. of PCs')\n",
    "plt.title('Accuracy per no. of PCs')\n",
    "plt.xlim([0, 200])\n",
    "plt.ylim([0, 1])\n",
    "plt.xticks(np.arange(0, 210, 10))\n",
    "plt.yticks(np.arange(0,1, 0.1))\n",
    "plt.legend()\n",
    "plt.savefig('pca_svm_biovar_5000.png', dpi=300)"
   ]
  },
  {
   "cell_type": "code",
   "execution_count": 45,
   "id": "099384df",
   "metadata": {},
   "outputs": [
    {
     "data": {
      "text/plain": [
       "[0.2693520140105079,\n",
       " 0.41751313485113833,\n",
       " 0.4679509632224168,\n",
       " 0.5026269702276708,\n",
       " 0.5225919439579685,\n",
       " 0.5313485113835377,\n",
       " 0.5362521891418564,\n",
       " 0.5387040280210158,\n",
       " 0.5362521891418564,\n",
       " 0.5341506129597198]"
      ]
     },
     "execution_count": 45,
     "metadata": {},
     "output_type": "execute_result"
    }
   ],
   "source": [
    "accuracies_pca_test_5000"
   ]
  },
  {
   "cell_type": "code",
   "execution_count": 48,
   "id": "740dbb60",
   "metadata": {},
   "outputs": [
    {
     "data": {
      "text/plain": [
       "[0.5778203749590911,\n",
       " 0.7322455467763804,\n",
       " 0.7724063771097293,\n",
       " 0.7904062836037216,\n",
       " 0.8005049324419093,\n",
       " 0.8070503529851792,\n",
       " 0.8120061713965122,\n",
       " 0.8153723876759081,\n",
       " 0.8190658749824676,\n",
       " 0.8216840431997756]"
      ]
     },
     "execution_count": 48,
     "metadata": {},
     "output_type": "execute_result"
    }
   ],
   "source": [
    "accuracies_pca_train_5000"
   ]
  },
  {
   "cell_type": "markdown",
   "id": "e77fea44",
   "metadata": {},
   "source": [
    "### Silhouette-Score Filter "
   ]
  },
  {
   "cell_type": "code",
   "execution_count": 16,
   "id": "616880b7",
   "metadata": {},
   "outputs": [],
   "source": [
    "feature_scores = pd.read_csv('feature_silhouette_scores.txt', index_col= 'Unnamed: 0')"
   ]
  },
  {
   "cell_type": "code",
   "execution_count": 27,
   "id": "305791ba",
   "metadata": {},
   "outputs": [
    {
     "data": {
      "text/html": [
       "<div>\n",
       "<style scoped>\n",
       "    .dataframe tbody tr th:only-of-type {\n",
       "        vertical-align: middle;\n",
       "    }\n",
       "\n",
       "    .dataframe tbody tr th {\n",
       "        vertical-align: top;\n",
       "    }\n",
       "\n",
       "    .dataframe thead th {\n",
       "        text-align: right;\n",
       "    }\n",
       "</style>\n",
       "<table border=\"1\" class=\"dataframe\">\n",
       "  <thead>\n",
       "    <tr style=\"text-align: right;\">\n",
       "      <th></th>\n",
       "      <th>silhouette_score</th>\n",
       "    </tr>\n",
       "  </thead>\n",
       "  <tbody>\n",
       "    <tr>\n",
       "      <th>100009600</th>\n",
       "      <td>-0.757809</td>\n",
       "    </tr>\n",
       "    <tr>\n",
       "      <th>100009609</th>\n",
       "      <td>-0.815316</td>\n",
       "    </tr>\n",
       "    <tr>\n",
       "      <th>100009614</th>\n",
       "      <td>-0.417372</td>\n",
       "    </tr>\n",
       "    <tr>\n",
       "      <th>100012</th>\n",
       "      <td>-0.844808</td>\n",
       "    </tr>\n",
       "    <tr>\n",
       "      <th>100017</th>\n",
       "      <td>-0.848211</td>\n",
       "    </tr>\n",
       "    <tr>\n",
       "      <th>...</th>\n",
       "      <td>...</td>\n",
       "    </tr>\n",
       "    <tr>\n",
       "      <th>99887</th>\n",
       "      <td>-0.776735</td>\n",
       "    </tr>\n",
       "    <tr>\n",
       "      <th>99889</th>\n",
       "      <td>-0.744287</td>\n",
       "    </tr>\n",
       "    <tr>\n",
       "      <th>99890</th>\n",
       "      <td>-0.880555</td>\n",
       "    </tr>\n",
       "    <tr>\n",
       "      <th>99899</th>\n",
       "      <td>-0.817491</td>\n",
       "    </tr>\n",
       "    <tr>\n",
       "      <th>99929</th>\n",
       "      <td>-0.696231</td>\n",
       "    </tr>\n",
       "  </tbody>\n",
       "</table>\n",
       "<p>20463 rows × 1 columns</p>\n",
       "</div>"
      ],
      "text/plain": [
       "           silhouette_score\n",
       "100009600         -0.757809\n",
       "100009609         -0.815316\n",
       "100009614         -0.417372\n",
       "100012            -0.844808\n",
       "100017            -0.848211\n",
       "...                     ...\n",
       "99887             -0.776735\n",
       "99889             -0.744287\n",
       "99890             -0.880555\n",
       "99899             -0.817491\n",
       "99929             -0.696231\n",
       "\n",
       "[20463 rows x 1 columns]"
      ]
     },
     "execution_count": 27,
     "metadata": {},
     "output_type": "execute_result"
    }
   ],
   "source": [
    "feature_scores"
   ]
  },
  {
   "cell_type": "code",
   "execution_count": 17,
   "id": "fe9c3c26",
   "metadata": {},
   "outputs": [],
   "source": [
    "percentages = range(10,60,10)\n",
    "score_splits = -np.nanpercentile(-feature_scores, percentages, axis=0)"
   ]
  },
  {
   "cell_type": "code",
   "execution_count": 32,
   "id": "01ea8ed0",
   "metadata": {},
   "outputs": [
    {
     "name": "stdout",
     "output_type": "stream",
     "text": [
      "[-0.55076491]\n",
      "[-0.61019145]\n",
      "[-0.65833897]\n",
      "[-0.70698023]\n",
      "[-0.75138253]\n"
     ]
    }
   ],
   "source": [
    "train_accuracies = []\n",
    "test_accuracies = []\n",
    "\n",
    "for i in range(len(score_splits)):\n",
    "    print(score_splits[i])\n",
    "\n",
    "    feat_col = feature_scores[feature_scores['silhouette_score'] > score_splits[i][0]].index\n",
    "    X_train_feat = X_train.loc[:, feat_col]\n",
    "    X_test_feat = X_test.loc[:, feat_col]\n",
    "    \n",
    "    #print(X_train_feat.shape)\n",
    "    pca = PCA(n_components=200)\n",
    "    X_train_pca_ss = pca.fit_transform(X_train_feat)\n",
    "    X_test_pca_ss= pca.transform(X_test_feat)\n",
    "    model = SVC()\n",
    "    model.fit(X_train_pca_ss[:, :120], y_train)\n",
    "    y_pred = model.predict(X_test_pca_ss[:, :120])\n",
    "    y_pred_train = model.predict(X_train_pca_ss[:, :120])\n",
    "    accuracy = accuracy_score(y_test, y_pred)\n",
    "    train_accuracy = accuracy_score(y_train, y_pred_train)\n",
    "    test_accuracies.append(accuracy)\n",
    "    train_accuracies.append(train_accuracy)"
   ]
  },
  {
   "cell_type": "code",
   "execution_count": 46,
   "id": "ed4348f5",
   "metadata": {
    "scrolled": false
   },
   "outputs": [
    {
     "data": {
      "image/png": "[encoded data removed]",
      "text/plain": [
       "<Figure size 720x432 with 1 Axes>"
      ]
     },
     "metadata": {
      "needs_background": "light"
     },
     "output_type": "display_data"
    }
   ],
   "source": [
    "plt.figure(figsize=(10,6))\n",
    "plt.plot(percentages, test_accuracies, label='test', marker = '^')\n",
    "plt.plot(percentages,train_accuracies, label='train',  marker = '^')\n",
    "plt.ylabel('Accuracy')\n",
    "plt.xlabel('percentage of genes')\n",
    "plt.title('Accuracy per percentage of genes (SVM with 120 PCs filtered based on Silhouette score)')\n",
    "plt.xlim([0, 70])\n",
    "plt.ylim([0, 1])\n",
    "plt.xticks(np.arange(0, 70, 10))\n",
    "plt.yticks(np.arange(0,1, 0.1))\n",
    "plt.legend()\n",
    "plt.savefig('pca_svm_ss.png', dpi=300)"
   ]
  },
  {
   "cell_type": "code",
   "execution_count": 36,
   "id": "137db702",
   "metadata": {},
   "outputs": [
    {
     "data": {
      "text/plain": [
       "[0.28231173380035024,\n",
       " 0.3856392294220666,\n",
       " 0.3975481611208406,\n",
       " 0.45779334500875657,\n",
       " 0.46304728546409807]"
      ]
     },
     "execution_count": 36,
     "metadata": {},
     "output_type": "execute_result"
    }
   ],
   "source": [
    "test_accuracies"
   ]
  },
  {
   "cell_type": "code",
   "execution_count": 49,
   "id": "0226637f",
   "metadata": {},
   "outputs": [
    {
     "data": {
      "text/plain": [
       "[0.7899855065687971,\n",
       " 0.8334658001776614,\n",
       " 0.8493618214970312,\n",
       " 0.856655290102389,\n",
       " 0.8623124035719295]"
      ]
     },
     "execution_count": 49,
     "metadata": {},
     "output_type": "execute_result"
    }
   ],
   "source": [
    "train_accuracies"
   ]
  },
  {
   "cell_type": "code",
   "execution_count": null,
   "id": "0873230e",
   "metadata": {},
   "outputs": [],
   "source": []
  }
 ],
 "metadata": {
  "kernelspec": {
   "display_name": "Python 3",
   "language": "python",
   "name": "python3"
  },
  "language_info": {
   "codemirror_mode": {
    "name": "ipython",
    "version": 3
   },
   "file_extension": ".py",
   "mimetype": "text/x-python",
   "name": "python",
   "nbconvert_exporter": "python",
   "pygments_lexer": "ipython3",
   "version": "3.8.8"
  }
 },
 "nbformat": 4,
 "nbformat_minor": 5
}
