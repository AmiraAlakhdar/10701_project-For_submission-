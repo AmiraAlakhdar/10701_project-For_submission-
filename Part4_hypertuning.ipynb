{
 "cells": [
  {
   "cell_type": "markdown",
   "id": "65135460",
   "metadata": {},
   "source": [
    "## Reading Libraries and dataset"
   ]
  },
  {
   "cell_type": "code",
   "execution_count": 1,
   "id": "c3c0bbec",
   "metadata": {},
   "outputs": [],
   "source": [
    "import pandas as pd\n",
    "import numpy as np\n",
    "import matplotlib.pyplot as plt\n",
    "from sklearn.metrics import accuracy_score\n",
    "from sklearn.multiclass import OneVsRestClassifier\n",
    "from sklearn.preprocessing import StandardScaler\n",
    "from sklearn.decomposition import PCA\n",
    "from sklearn.model_selection import GridSearchCV"
   ]
  },
  {
   "cell_type": "code",
   "execution_count": 2,
   "id": "48c72234",
   "metadata": {},
   "outputs": [],
   "source": [
    "train = pd.HDFStore('train_data.h5')\n",
    "y_train = train['labels']\n",
    "X_train = train['rpkm']\n",
    "idx1 = y_train.index\n",
    "X_train= X_train.loc[idx1, :]"
   ]
  },
  {
   "cell_type": "code",
   "execution_count": 3,
   "id": "5d5fd95a",
   "metadata": {},
   "outputs": [],
   "source": [
    "test = pd.HDFStore('test_data.h5')\n",
    "y_test = test['labels']\n",
    "X_test = test['rpkm']"
   ]
  },
  {
   "cell_type": "code",
   "execution_count": 4,
   "id": "477c13b8",
   "metadata": {},
   "outputs": [],
   "source": [
    "from sklearn.decomposition import PCA\n",
    "pca = PCA(n_components=200)\n",
    "X_train_pca = pca.fit_transform(X_train)\n",
    "X_test_pca = pca.transform(X_test)"
   ]
  },
  {
   "cell_type": "code",
   "execution_count": 5,
   "id": "e81fa669",
   "metadata": {},
   "outputs": [],
   "source": [
    "X_train_best_pca = X_train_pca[:, :120]\n",
    "X_test_best_pca = X_test_pca[:, :120]"
   ]
  },
  {
   "cell_type": "code",
   "execution_count": 6,
   "id": "7a322ccc",
   "metadata": {},
   "outputs": [],
   "source": [
    "param_grid = {'C': [0.1, 1, 10],\n",
    "              'gamma': [1, 0.1, 0.01],\n",
    "              'kernel': ['rbf']}"
   ]
  },
  {
   "cell_type": "code",
   "execution_count": 7,
   "id": "2e9f6fbe",
   "metadata": {},
   "outputs": [],
   "source": [
    "from sklearn.svm import SVC\n",
    "grid = GridSearchCV(SVC(), param_grid, refit = True, verbose = 3, cv=3)"
   ]
  },
  {
   "cell_type": "code",
   "execution_count": 8,
   "id": "1bedd35d",
   "metadata": {},
   "outputs": [
    {
     "name": "stdout",
     "output_type": "stream",
     "text": [
      "Fitting 3 folds for each of 9 candidates, totalling 27 fits\n",
      "[CV 1/3] END .....................C=0.1, gamma=1, kernel=rbf; total time= 2.3min\n",
      "[CV 2/3] END .....................C=0.1, gamma=1, kernel=rbf; total time= 2.3min\n",
      "[CV 3/3] END .....................C=0.1, gamma=1, kernel=rbf; total time= 2.3min\n",
      "[CV 1/3] END ...................C=0.1, gamma=0.1, kernel=rbf; total time= 2.3min\n",
      "[CV 2/3] END ...................C=0.1, gamma=0.1, kernel=rbf; total time= 2.3min\n",
      "[CV 3/3] END ...................C=0.1, gamma=0.1, kernel=rbf; total time= 2.3min\n",
      "[CV 1/3] END ..................C=0.1, gamma=0.01, kernel=rbf; total time= 2.3min\n",
      "[CV 2/3] END ..................C=0.1, gamma=0.01, kernel=rbf; total time= 2.3min\n",
      "[CV 3/3] END ..................C=0.1, gamma=0.01, kernel=rbf; total time= 2.3min\n",
      "[CV 1/3] END .......................C=1, gamma=1, kernel=rbf; total time= 2.3min\n",
      "[CV 2/3] END .......................C=1, gamma=1, kernel=rbf; total time= 2.3min\n",
      "[CV 3/3] END .......................C=1, gamma=1, kernel=rbf; total time= 2.3min\n",
      "[CV 1/3] END .....................C=1, gamma=0.1, kernel=rbf; total time= 2.4min\n",
      "[CV 2/3] END .....................C=1, gamma=0.1, kernel=rbf; total time= 2.4min\n",
      "[CV 3/3] END .....................C=1, gamma=0.1, kernel=rbf; total time= 2.3min\n",
      "[CV 1/3] END ....................C=1, gamma=0.01, kernel=rbf; total time= 2.6min\n",
      "[CV 2/3] END ....................C=1, gamma=0.01, kernel=rbf; total time= 2.3min\n",
      "[CV 3/3] END ....................C=1, gamma=0.01, kernel=rbf; total time= 2.4min\n",
      "[CV 1/3] END ......................C=10, gamma=1, kernel=rbf; total time= 2.5min\n",
      "[CV 2/3] END ......................C=10, gamma=1, kernel=rbf; total time= 2.6min\n",
      "[CV 3/3] END ......................C=10, gamma=1, kernel=rbf; total time= 2.7min\n",
      "[CV 1/3] END ....................C=10, gamma=0.1, kernel=rbf; total time= 2.8min\n",
      "[CV 2/3] END ....................C=10, gamma=0.1, kernel=rbf; total time= 2.7min\n",
      "[CV 3/3] END ....................C=10, gamma=0.1, kernel=rbf; total time= 2.4min\n",
      "[CV 1/3] END ...................C=10, gamma=0.01, kernel=rbf; total time= 2.4min\n",
      "[CV 2/3] END ...................C=10, gamma=0.01, kernel=rbf; total time= 2.5min\n",
      "[CV 3/3] END ...................C=10, gamma=0.01, kernel=rbf; total time= 2.4min\n"
     ]
    },
    {
     "data": {
      "text/plain": [
       "GridSearchCV(cv=3, estimator=SVC(),\n",
       "             param_grid={'C': [0.1, 1, 10], 'gamma': [1, 0.1, 0.01],\n",
       "                         'kernel': ['rbf']},\n",
       "             verbose=3)"
      ]
     },
     "execution_count": 8,
     "metadata": {},
     "output_type": "execute_result"
    }
   ],
   "source": [
    "grid.fit(X_train_best_pca, y_train)"
   ]
  },
  {
   "cell_type": "code",
   "execution_count": 9,
   "id": "087f57b5",
   "metadata": {},
   "outputs": [
    {
     "name": "stdout",
     "output_type": "stream",
     "text": [
      "{'C': 10, 'gamma': 0.01, 'kernel': 'rbf'}\n"
     ]
    }
   ],
   "source": [
    "print(grid.best_params_)"
   ]
  },
  {
   "cell_type": "code",
   "execution_count": 10,
   "id": "5a9cbba5",
   "metadata": {},
   "outputs": [
    {
     "name": "stdout",
     "output_type": "stream",
     "text": [
      "SVC(C=10, gamma=0.01)\n"
     ]
    }
   ],
   "source": [
    "print(grid.best_estimator_)"
   ]
  },
  {
   "cell_type": "code",
   "execution_count": 11,
   "id": "5394a459",
   "metadata": {},
   "outputs": [
    {
     "name": "stdout",
     "output_type": "stream",
     "text": [
      "{'mean_fit_time': array([ 93.78452293,  93.47567908,  93.99906206,  96.26721708,\n",
      "        99.18580111, 103.08994063, 112.07218949, 112.53452452,\n",
      "       103.23494116]), 'std_fit_time': array([0.07900785, 1.1699189 , 0.98268615, 0.79689733, 2.92337956,\n",
      "       6.46893598, 4.6591351 , 7.18367736, 0.91272936]), 'mean_score_time': array([43.12421894, 43.00000342, 43.16448633, 44.09950447, 43.62405698,\n",
      "       44.38933118, 46.19340611, 46.22610521, 44.05206593]), 'std_score_time': array([0.15720622, 0.04720504, 0.2286653 , 0.86674308, 0.33683141,\n",
      "       1.25269089, 0.61238674, 1.68675401, 0.60436858]), 'param_C': masked_array(data=[0.1, 0.1, 0.1, 1, 1, 1, 10, 10, 10],\n",
      "             mask=[False, False, False, False, False, False, False, False,\n",
      "                   False],\n",
      "       fill_value='?',\n",
      "            dtype=object), 'param_gamma': masked_array(data=[1, 0.1, 0.01, 1, 0.1, 0.01, 1, 0.1, 0.01],\n",
      "             mask=[False, False, False, False, False, False, False, False,\n",
      "                   False],\n",
      "       fill_value='?',\n",
      "            dtype=object), 'param_kernel': masked_array(data=['rbf', 'rbf', 'rbf', 'rbf', 'rbf', 'rbf', 'rbf', 'rbf',\n",
      "                   'rbf'],\n",
      "             mask=[False, False, False, False, False, False, False, False,\n",
      "                   False],\n",
      "       fill_value='?',\n",
      "            dtype=object), 'params': [{'C': 0.1, 'gamma': 1, 'kernel': 'rbf'}, {'C': 0.1, 'gamma': 0.1, 'kernel': 'rbf'}, {'C': 0.1, 'gamma': 0.01, 'kernel': 'rbf'}, {'C': 1, 'gamma': 1, 'kernel': 'rbf'}, {'C': 1, 'gamma': 0.1, 'kernel': 'rbf'}, {'C': 1, 'gamma': 0.01, 'kernel': 'rbf'}, {'C': 10, 'gamma': 1, 'kernel': 'rbf'}, {'C': 10, 'gamma': 0.1, 'kernel': 'rbf'}, {'C': 10, 'gamma': 0.01, 'kernel': 'rbf'}], 'split0_test_score': array([0.17152875, 0.17152875, 0.17180926, 0.17152875, 0.171669  ,\n",
      "       0.17180926, 0.17152875, 0.17194951, 0.17194951]), 'split1_test_score': array([0.1713885 , 0.1713885 , 0.1713885 , 0.1713885 , 0.17194951,\n",
      "       0.17363254, 0.17194951, 0.17251052, 0.17391304]), 'split2_test_score': array([0.17141254, 0.17141254, 0.17141254, 0.17141254, 0.17141254,\n",
      "       0.17197363, 0.17197363, 0.1721139 , 0.1721139 ]), 'mean_test_score': array([0.17144326, 0.17144326, 0.17153677, 0.17144326, 0.17167702,\n",
      "       0.17247181, 0.1718173 , 0.17219131, 0.17265882]), 'std_test_score': array([6.12407066e-05, 6.12407066e-05, 1.92930206e-04, 6.12407066e-05,\n",
      "       2.19289815e-04, 8.23499080e-04, 2.04269469e-04, 2.35481188e-04,\n",
      "       8.89407146e-04]), 'rank_test_score': array([7, 7, 6, 7, 5, 2, 4, 3, 1])}\n"
     ]
    }
   ],
   "source": [
    "print(grid.cv_results_)"
   ]
  },
  {
   "cell_type": "markdown",
   "id": "7b6677ce",
   "metadata": {},
   "source": [
    "### SVM with best parameters"
   ]
  },
  {
   "cell_type": "code",
   "execution_count": 18,
   "id": "c5e3cb8f",
   "metadata": {},
   "outputs": [],
   "source": [
    "best_model = SVC(C=10, gamma=0.01)"
   ]
  },
  {
   "cell_type": "code",
   "execution_count": 19,
   "id": "28970d61",
   "metadata": {},
   "outputs": [
    {
     "data": {
      "text/plain": [
       "SVC(C=10, gamma=0.01)"
      ]
     },
     "execution_count": 19,
     "metadata": {},
     "output_type": "execute_result"
    }
   ],
   "source": [
    "best_model.fit(X_train_best_pca, y_train)"
   ]
  },
  {
   "cell_type": "code",
   "execution_count": 20,
   "id": "1225f8b8",
   "metadata": {},
   "outputs": [],
   "source": [
    "y_pred_bm = best_model.predict(X_test_best_pca)"
   ]
  },
  {
   "cell_type": "code",
   "execution_count": 21,
   "id": "66c83309",
   "metadata": {},
   "outputs": [
    {
     "data": {
      "text/plain": [
       "0.0"
      ]
     },
     "execution_count": 21,
     "metadata": {},
     "output_type": "execute_result"
    }
   ],
   "source": [
    "accuracy_score(y_test, y_pred_bm)"
   ]
  },
  {
   "cell_type": "code",
   "execution_count": 25,
   "id": "11d14127",
   "metadata": {},
   "outputs": [
    {
     "data": {
      "text/plain": [
       "(2855,)"
      ]
     },
     "execution_count": 25,
     "metadata": {},
     "output_type": "execute_result"
    }
   ],
   "source": [
    "y_pred_bm.shape"
   ]
  },
  {
   "cell_type": "code",
   "execution_count": 26,
   "id": "264d2e91",
   "metadata": {},
   "outputs": [
    {
     "data": {
      "text/plain": [
       "(2855, 200)"
      ]
     },
     "execution_count": 26,
     "metadata": {},
     "output_type": "execute_result"
    }
   ],
   "source": [
    "X_test_pca.shape"
   ]
  },
  {
   "cell_type": "code",
   "execution_count": 27,
   "id": "aa6440ef",
   "metadata": {},
   "outputs": [
    {
     "data": {
      "text/plain": [
       "(2855, 120)"
      ]
     },
     "execution_count": 27,
     "metadata": {},
     "output_type": "execute_result"
    }
   ],
   "source": [
    "X_test_best_pca.shape"
   ]
  },
  {
   "cell_type": "code",
   "execution_count": 29,
   "id": "f9018fb5",
   "metadata": {},
   "outputs": [
    {
     "data": {
      "text/plain": [
       "(21389, 120)"
      ]
     },
     "execution_count": 29,
     "metadata": {},
     "output_type": "execute_result"
    }
   ],
   "source": [
    "X_train_best_pca.shape"
   ]
  },
  {
   "cell_type": "code",
   "execution_count": null,
   "id": "a825221a",
   "metadata": {},
   "outputs": [],
   "source": []
  }
 ],
 "metadata": {
  "kernelspec": {
   "display_name": "Python 3",
   "language": "python",
   "name": "python3"
  },
  "language_info": {
   "codemirror_mode": {
    "name": "ipython",
    "version": 3
   },
   "file_extension": ".py",
   "mimetype": "text/x-python",
   "name": "python",
   "nbconvert_exporter": "python",
   "pygments_lexer": "ipython3",
   "version": "3.8.8"
  }
 },
 "nbformat": 4,
 "nbformat_minor": 5
}
