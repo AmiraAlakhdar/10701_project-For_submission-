{
 "cells": [
  {
   "cell_type": "code",
   "execution_count": 1,
   "id": "219962ba",
   "metadata": {},
   "outputs": [],
   "source": [
    "import numpy as np\n",
    "import pandas as pd\n",
    "import sklearn\n",
    "from sklearn.utils import shuffle\n",
    "from sklearn.preprocessing import StandardScaler\n",
    "from sklearn.metrics import silhouette_samples, silhouette_score\n",
    "from sklearn.preprocessing import LabelBinarizer"
   ]
  },
  {
   "cell_type": "code",
   "execution_count": 9,
   "id": "9711c1f9",
   "metadata": {},
   "outputs": [],
   "source": [
    "## This function will return the silhouette score for each feature/column\n",
    "## Only columns with variance > variance_threshold will be considered\n",
    "def feature_silhouette(X_train, y_train, variance_threshold=0.1, shuffle_data=True):\n",
    "\n",
    "    # select columns with  variance > variance_threshold\n",
    "    variable_features = (np.var(X_train) > variance_threshold)\n",
    "    X_train = X_train.loc[:,variable_features]\n",
    "\n",
    "    # shuffle our data\n",
    "    if shuffle_data:\n",
    "        X_train, y_train = shuffle(X_train, y_train, random_state=0)\n",
    "    \n",
    "    # retrieve the 46 types of cells\n",
    "    type_counts = y_train.value_counts()\n",
    "    num_types = len(type_counts)\n",
    "    cell_types = type_counts.index\n",
    "\n",
    "    # generate centroids for each feature (using y_train cell types as clusters)\n",
    "    centroids = pd.DataFrame(0, index=X_train.index, columns=X_train.columns)#X_train\n",
    "    sil_scores = pd.DataFrame(-1.0, index=X_train.columns, columns=[\"silhouette_score\"])\n",
    "    for cell_type in cell_types:\n",
    "        index = y_train==cell_type\n",
    "        centroids.loc[index, :] = np.average(X_train.loc[index, :], axis=0)\n",
    "    \n",
    "    for i, col in zip(range(len(X_train.columns)), X_train.columns):\n",
    "        if i%500 == 0:\n",
    "            print(f'{i:5d} columns calculated')\n",
    "        X = X_train.loc[:,col].values.reshape(-1,1)\n",
    "        labels = np.ravel(centroids.loc[:,col].values)\n",
    "        sil_scores.loc[col] = silhouette_score(X, labels)\n",
    "    \n",
    "    sil_scores.to_csv(f'./feature_silhouette_scores(var_{variance_threshold}).csv')\n",
    "    return sil_scores, variable_features"
   ]
  },
  {
   "cell_type": "code",
   "execution_count": 10,
   "id": "d7b409b9",
   "metadata": {},
   "outputs": [],
   "source": [
    "# open up a train datastore\n",
    "train = pd.HDFStore('train_data.h5')\n",
    "y_train = train['labels']\n",
    "X_train = train['rpkm']\n",
    "idx1 = y_train.index\n",
    "X_train = X_train.loc[idx1, :]"
   ]
  },
  {
   "cell_type": "code",
   "execution_count": 11,
   "id": "5f494585",
   "metadata": {
    "scrolled": true
   },
   "outputs": [
    {
     "name": "stdout",
     "output_type": "stream",
     "text": [
      "    0 columns calculated\n",
      "  500 columns calculated\n",
      " 1000 columns calculated\n",
      " 1500 columns calculated\n"
     ]
    }
   ],
   "source": [
    "sil_scores, car_cols = feature_silhouette(X_train, y_train, variance_threshold=0.01, shuffle_data=True)"
   ]
  },
  {
   "cell_type": "code",
   "execution_count": 12,
   "id": "bf44681e",
   "metadata": {},
   "outputs": [],
   "source": [
    "df = pd.DataFrame()"
   ]
  },
  {
   "cell_type": "code",
   "execution_count": 13,
   "id": "dfc1975a",
   "metadata": {},
   "outputs": [],
   "source": [
    "df['genes'] = car_cols\n",
    "df['scores'] = sil_scores"
   ]
  },
  {
   "cell_type": "code",
   "execution_count": 14,
   "id": "b46a1108",
   "metadata": {},
   "outputs": [],
   "source": [
    "df.to_csv('feature_silhouette_scores.txt')"
   ]
  }
 ],
 "metadata": {
  "kernelspec": {
   "display_name": "Python 3",
   "language": "python",
   "name": "python3"
  },
  "language_info": {
   "codemirror_mode": {
    "name": "ipython",
    "version": 3
   },
   "file_extension": ".py",
   "mimetype": "text/x-python",
   "name": "python",
   "nbconvert_exporter": "python",
   "pygments_lexer": "ipython3",
   "version": "3.8.8"
  }
 },
 "nbformat": 4,
 "nbformat_minor": 5
}
